{
 "cells": [
  {
   "cell_type": "markdown",
   "id": "907b3e30",
   "metadata": {},
   "source": [
    "## Explain the data ingestion before apply it on the project"
   ]
  },
  {
   "cell_type": "code",
   "execution_count": 1,
   "id": "dd1de0c1",
   "metadata": {},
   "outputs": [],
   "source": [
    "import os \n",
    "import sys\n",
    "sys.path.append(os.path.abspath(os.path.join(os.getcwd(), \"..\")))\n"
   ]
  },
  {
   "cell_type": "code",
   "execution_count": 2,
   "id": "ead74851",
   "metadata": {},
   "outputs": [],
   "source": [
    "os.chdir('../')"
   ]
  },
  {
   "cell_type": "code",
   "execution_count": 3,
   "id": "65ac082f",
   "metadata": {},
   "outputs": [
    {
     "name": "stdout",
     "output_type": "stream",
     "text": [
      "/Users/samaheddaoudi/E2E-datasciene_project-18/e2e-datascience_project-1\n"
     ]
    }
   ],
   "source": [
    "!pwd"
   ]
  },
  {
   "cell_type": "code",
   "execution_count": 4,
   "id": "cc831b2d",
   "metadata": {},
   "outputs": [
    {
     "name": "stdout",
     "output_type": "stream",
     "text": [
      "True\n"
     ]
    }
   ],
   "source": [
    "from dataclasses import dataclass\n",
    "from pathlib import Path\n",
    "print(Path(\"config/config.yaml\").exists())\n",
    "\n",
    "@dataclass ## we dont define any methods only defining variables\n",
    "class DataIngestionconfig:\n",
    "  root_dir: Path\n",
    "  source_url: str\n",
    "  local_data_file:  Path\n",
    "  unzip_dir: Path\n"
   ]
  },
  {
   "cell_type": "code",
   "execution_count": null,
   "id": "1d951977",
   "metadata": {},
   "outputs": [
    {
     "name": "stdout",
     "output_type": "stream",
     "text": [
      "True\n",
      "config/config.yaml\n"
     ]
    }
   ],
   "source": [
    "from src.datascience_project_1.constants import *\n",
    "from src.datascience_project_1.utils.common import read_yaml , create_directories"
   ]
  },
  {
   "cell_type": "code",
   "execution_count": 6,
   "id": "4788dee7",
   "metadata": {},
   "outputs": [],
   "source": [
    "# this is the first step in data ingestion\n",
    "class ConfigurationManager:\n",
    "    def __init__(self,\n",
    "                 config_filepath=CONFIG_FILE_PATH,\n",
    "                 params_filepath=PARAMS_FILE_PATH,\n",
    "                 schema_filepath=SCHEMA_FILE_PATH\n",
    "\n",
    "\n",
    "                 ):\n",
    "        self.config=read_yaml(config_filepath)\n",
    "        self.params=read_yaml(params_filepath)\n",
    "        self.schema=read_yaml(schema_filepath)\n",
    "        create_directories([self.config.artifacts_root])\n",
    "    ## Get the needed informations about the data ingestion itself\n",
    "    def get_dataingestion_config(self) -> DataIngestionconfig: ## return type is DataIngestionconfig\n",
    "        config=self.config.data_ingestion ## from config.yaml data_ingestion is a key\n",
    "        create_directories([config.root_dir])\n",
    "        data_ingestion_config=DataIngestionconfig(\n",
    "            root_dir=config.root_dir,\n",
    "            source_url=config.source_url,\n",
    "            local_data_file=config.local_data_file,\n",
    "            unzip_dir=config.unzip_dir\n",
    "\n",
    "        )\n",
    "        return data_ingestion_config    \n"
   ]
  },
  {
   "cell_type": "code",
   "execution_count": 7,
   "id": "293fb42e",
   "metadata": {},
   "outputs": [],
   "source": [
    "import os\n",
    "import urllib.request as request\n",
    "from src.datascience_project_1 import logger\n",
    "import zipfile\n",
    "\n"
   ]
  },
  {
   "cell_type": "code",
   "execution_count": 8,
   "id": "a68b89da",
   "metadata": {},
   "outputs": [],
   "source": [
    "## update the components: Data ingestion componentre\n",
    "class DataIngestion:\n",
    "    def __init__(self,config:DataIngestionconfig):\n",
    "        self.config=config\n",
    "    \n",
    "    # Downloading the zip file\n",
    "    def download_file(self):\n",
    "        if not os.path.exists(self.config.local_data_file):\n",
    "            filename, headers = request.urlretrieve(\n",
    "                url = self.config.source_url,\n",
    "                filename = self.config.local_data_file\n",
    "            )\n",
    "            logger.info(f\"{filename} download! with following info: \\n{headers}\")\n",
    "        else:\n",
    "            logger.info(f\"File already exists\")\n",
    "\n",
    "    def extract_zip_file(self):\n",
    "        \"\"\"\n",
    "        zip_file_path: str\n",
    "        Extracts the zip file into the data directory\n",
    "        Function returns None\n",
    "        \"\"\"\n",
    "        unzip_path = self.config.unzip_dir\n",
    "        os.makedirs(unzip_path, exist_ok=True)\n",
    "        with zipfile.ZipFile(self.config.local_data_file, 'r') as zip_ref:\n",
    "            zip_ref.extractall(unzip_path)"
   ]
  },
  {
   "cell_type": "code",
   "execution_count": 9,
   "id": "d979d90a",
   "metadata": {},
   "outputs": [
    {
     "name": "stdout",
     "output_type": "stream",
     "text": [
      "[2025-04-27 15:57:15,106: INFO: common: yaml file: config/config.yaml loaded successfully]\n",
      "[2025-04-27 15:57:15,108: INFO: common: yaml file: params.yaml loaded successfully]\n",
      "[2025-04-27 15:57:15,111: INFO: common: yaml file: schema.yaml loaded successfully]\n",
      "[2025-04-27 15:57:15,113: INFO: common: created directory at: artifacts]\n",
      "[2025-04-27 15:57:15,114: INFO: common: created directory at: artifacts/data_ingestion]\n",
      "[2025-04-27 15:57:16,131: INFO: 1779941582: artifacts/data_ingestion/data.zip download! with following info: \n",
      "Connection: close\n",
      "Content-Length: 23329\n",
      "Cache-Control: max-age=300\n",
      "Content-Security-Policy: default-src 'none'; style-src 'unsafe-inline'; sandbox\n",
      "Content-Type: application/zip\n",
      "ETag: \"c69888a4ae59bc5a893392785a938ccd4937981c06ba8a9d6a21aa52b4ab5b6e\"\n",
      "Strict-Transport-Security: max-age=31536000\n",
      "X-Content-Type-Options: nosniff\n",
      "X-Frame-Options: deny\n",
      "X-XSS-Protection: 1; mode=block\n",
      "X-GitHub-Request-Id: 37CE:93C1E:A9BDBB:BE6530:680E45CA\n",
      "Accept-Ranges: bytes\n",
      "Date: Sun, 27 Apr 2025 14:57:16 GMT\n",
      "Via: 1.1 varnish\n",
      "X-Served-By: cache-mad2200143-MAD\n",
      "X-Cache: MISS\n",
      "X-Cache-Hits: 0\n",
      "X-Timer: S1745765836.947011,VS0,VE246\n",
      "Vary: Authorization,Accept-Encoding,Origin\n",
      "Access-Control-Allow-Origin: *\n",
      "Cross-Origin-Resource-Policy: cross-origin\n",
      "X-Fastly-Request-ID: 88c3c71b9b0e81cdbf231683250cb6feacef3f62\n",
      "Expires: Sun, 27 Apr 2025 15:02:16 GMT\n",
      "Source-Age: 0\n",
      "\n",
      "]\n"
     ]
    }
   ],
   "source": [
    "try:\n",
    "    config=ConfigurationManager()\n",
    "    data_ingestion_config=config.get_dataingestion_config()\n",
    "    data_ingstion=DataIngestion(config=data_ingestion_config)\n",
    "    data_ingstion.download_file()\n",
    "    data_ingstion.extract_zip_file()\n",
    "except Exception as e:\n",
    "    raise e"
   ]
  },
  {
   "cell_type": "code",
   "execution_count": null,
   "id": "ed783168",
   "metadata": {},
   "outputs": [],
   "source": []
  }
 ],
 "metadata": {
  "kernelspec": {
   "display_name": "Python 3",
   "language": "python",
   "name": "python3"
  },
  "language_info": {
   "codemirror_mode": {
    "name": "ipython",
    "version": 3
   },
   "file_extension": ".py",
   "mimetype": "text/x-python",
   "name": "python",
   "nbconvert_exporter": "python",
   "pygments_lexer": "ipython3",
   "version": "3.10.0"
  }
 },
 "nbformat": 4,
 "nbformat_minor": 5
}
